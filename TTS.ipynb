{
  "nbformat": 4,
  "nbformat_minor": 0,
  "metadata": {
    "colab": {
      "private_outputs": true,
      "provenance": [],
      "authorship_tag": "ABX9TyMHuljVjN+4EYpqeLTDsayL",
      "include_colab_link": true
    },
    "kernelspec": {
      "name": "python3",
      "display_name": "Python 3"
    },
    "language_info": {
      "name": "python"
    }
  },
  "cells": [
    {
      "cell_type": "markdown",
      "metadata": {
        "id": "view-in-github",
        "colab_type": "text"
      },
      "source": [
        "<a href=\"https://colab.research.google.com/github/MK316/KYK23/blob/main/TTS.ipynb\" target=\"_parent\"><img src=\"https://colab.research.google.com/assets/colab-badge.svg\" alt=\"Open In Colab\"/></a>"
      ]
    },
    {
      "cell_type": "markdown",
      "source": [
        "# 🍀 Text-to-Speech\n",
        "\n",
        "1. Run [0] to install necessary packages\n",
        "2. Using Gradio, generate a live link\n",
        "3. Generate a QR code to share"
      ],
      "metadata": {
        "id": "Xeb_pHqDajrw"
      }
    },
    {
      "cell_type": "markdown",
      "source": [
        "## [0] 🔎 Install packages"
      ],
      "metadata": {
        "id": "oJiTGrkgwIuL"
      }
    },
    {
      "cell_type": "code",
      "source": [
        "%%capture\n",
        "!pip install gtts gradio\n",
        "!pip install qrcode"
      ],
      "metadata": {
        "id": "vhG4h5DOasw9"
      },
      "execution_count": null,
      "outputs": []
    },
    {
      "cell_type": "markdown",
      "source": [
        "## [2] 🔎 Gradio: getting a live link"
      ],
      "metadata": {
        "id": "LKdqAinbzKxu"
      }
    },
    {
      "cell_type": "code",
      "source": [
        "#@markdown Gradio link to generate TTS app\n",
        "import gradio as gr\n",
        "from gtts import gTTS\n",
        "\n",
        "# Pre-given text\n",
        "mytext = \"Type text here\"\n",
        "\n",
        "def text_to_speech(text, language):\n",
        "    # Define language codes for English, Korean, and Russian\n",
        "    language_codes = {'English': 'en', 'Korean': 'ko', 'Russian': 'ru'}\n",
        "\n",
        "    # Create a gTTS object with the selected language\n",
        "    tts = gTTS(text=text, lang=language_codes[language], slow=False)\n",
        "\n",
        "    # Save the speech to a temporary file\n",
        "    filename = 'output.mp3'\n",
        "    tts.save(filename)\n",
        "    return filename\n",
        "\n",
        "iface = gr.Interface(\n",
        "    fn=text_to_speech,\n",
        "    inputs=[\n",
        "        gr.Textbox(label=\"Sample text\", placeholder=\"Enter your text here\", value=mytext),\n",
        "        gr.Radio(choices=['English', 'Korean', 'Russian'], label=\"Select Language\")\n",
        "    ],\n",
        "    outputs=gr.Audio(label=\"Output Audio\"),\n",
        "    title=\"Text-to-Speech Converter\",\n",
        "    description=\"Enter a sentence and choose a language to convert it into speech.\"\n",
        ")\n",
        "\n",
        "iface.launch()\n"
      ],
      "metadata": {
        "cellView": "form",
        "id": "wxgk5yEPg7dI"
      },
      "execution_count": null,
      "outputs": []
    },
    {
      "cell_type": "markdown",
      "source": [
        "## [3] QR code to generate (image file on the left folder panel)"
      ],
      "metadata": {
        "id": "vCbn8LEQho5D"
      }
    },
    {
      "cell_type": "code",
      "source": [
        "#@markdown 🌀 QR code (link should be provided)\n",
        "import qrcode\n",
        "from IPython.display import display\n",
        "from PIL import Image\n",
        "\n",
        "# Replace YOUR_URL_HERE with the URL you copied from the Gradio output\n",
        "url = input(\"Paste your lin here: \")\n",
        "\n",
        "# Generate QR code\n",
        "qr = qrcode.QRCode(\n",
        "    version=1,\n",
        "    error_correction=qrcode.constants.ERROR_CORRECT_H,\n",
        "    box_size=12,\n",
        "    border=4,\n",
        ")\n",
        "qr.add_data(url)\n",
        "qr.make(fit=True)\n",
        "img = qr.make_image(fill_color=\"black\", back_color=\"white\")\n",
        "display(img)\n"
      ],
      "metadata": {
        "cellView": "form",
        "id": "LXZ9Po6Masw_"
      },
      "execution_count": null,
      "outputs": []
    }
  ]
}