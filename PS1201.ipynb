{
  "nbformat": 4,
  "nbformat_minor": 0,
  "metadata": {
    "colab": {
      "private_outputs": true,
      "provenance": [],
      "authorship_tag": "ABX9TyPjiT0O+TTCQ8CNaH+UoirS",
      "include_colab_link": true
    },
    "kernelspec": {
      "name": "python3",
      "display_name": "Python 3"
    },
    "language_info": {
      "name": "python"
    }
  },
  "cells": [
    {
      "cell_type": "markdown",
      "metadata": {
        "id": "view-in-github",
        "colab_type": "text"
      },
      "source": [
        "<a href=\"https://colab.research.google.com/github/MK316/KYK23/blob/main/PS1201.ipynb\" target=\"_parent\"><img src=\"https://colab.research.google.com/assets/colab-badge.svg\" alt=\"Open In Colab\"/></a>"
      ]
    },
    {
      "cell_type": "markdown",
      "source": [
        "# 연습 활동 (Sample 1)"
      ],
      "metadata": {
        "id": "Srf-BbslGI7k"
      }
    },
    {
      "cell_type": "code",
      "execution_count": null,
      "metadata": {
        "id": "koAk3VdVAbNy"
      },
      "outputs": [],
      "source": [
        "text = \"학교에서 프로젝트를 시작하는데, 이번 주까지 준비해야해.\""
      ]
    },
    {
      "cell_type": "code",
      "source": [
        "!pip install gtts"
      ],
      "metadata": {
        "id": "DifkxuqqGYf1"
      },
      "execution_count": null,
      "outputs": []
    },
    {
      "cell_type": "code",
      "source": [
        "# Import necessary libraries\n",
        "from google.colab import output\n",
        "from IPython.display import Audio, display\n",
        "from gtts import gTTS\n",
        "import os\n",
        "import ipywidgets as widgets"
      ],
      "metadata": {
        "id": "9uI5dgigIquM"
      },
      "execution_count": null,
      "outputs": []
    },
    {
      "cell_type": "code",
      "source": [
        "\n",
        "\n",
        "# Function to convert text to speech\n",
        "def text_to_speech(text):\n",
        "    tts = gTTS(text, lang= \"ko\")\n",
        "    tts.save('speech.mp3')\n",
        "    display(Audio('speech.mp3'))\n",
        "\n",
        "# Function to handle button click\n",
        "def on_button_clicked(b):\n",
        "    global selection\n",
        "    selection = b.description\n",
        "    print(f\"You selected option {b.description}\")\n",
        "    # Placeholder for feedback option\n",
        "    # You can add feedback generation logic here\n",
        "\n",
        "# Display the text-to-speech\n",
        "input_text = \"학교에서 프로젝트를 시작하는데, 이번 주까지 준비해야해.\"\n",
        "print(input_text)\n",
        "text_to_speech(input_text)\n",
        "\n",
        "print(\"*\"*50)\n",
        "print(\"선생님의 말 중에 놓친 부분이 있다면 어떻게 다시 질문하면 좋을까요?\")\n",
        "print(\"*\"*50)\n",
        "\n",
        "options = [\"1. 뭐라고요?\", \"2. 네?\", \"3. 잘 모르겠어요.\", \"4. 이번 주까지 무엇을 하라고요?\"]\n",
        "\n",
        "# Create and display buttons with text options\n",
        "buttons = []\n",
        "for option in options:\n",
        "    button = widgets.Button(description=option)\n",
        "    button.on_click(on_button_clicked)\n",
        "    buttons.append(button)\n",
        "\n",
        "# Display all buttons\n",
        "for button in buttons:\n",
        "    display(button)\n",
        "\n",
        "\n",
        "# Run this code in a cell in Google Colab to see the result\n"
      ],
      "metadata": {
        "id": "dZqUUYjzFcBQ"
      },
      "execution_count": null,
      "outputs": []
    },
    {
      "cell_type": "code",
      "source": [
        "#@markdown Exercise\n",
        "# Function to convert text to speech\n",
        "def text_to_speech(text):\n",
        "    tts = gTTS(text, lang= \"ko\")\n",
        "    tts.save('speech.mp3')\n",
        "    display(Audio('speech.mp3'))\n",
        "\n",
        "# Display the text-to-speech\n",
        "input_text = \"선생님: 학교에서 프로젝트를 시작하는데, 이번 주까지 준비해야해.\"\n",
        "print(input_text)\n",
        "text_to_speech(input_text)\n",
        "\n",
        "print(\"*\"*50)\n",
        "print(\"질문: 선생님의 말 중에 놓친 부분이 있다면 어떻게 다시 질문하면 좋을까요?\")\n",
        "print(\"*\"*50)\n",
        "# Define your options\n",
        "options = [\"1. 뭐라고요?\", \"2. 네?\", \"3. 잘 모르겠어요.\", \"4. 이번 주까지 무엇을 하라고요?\"]\n",
        "\n",
        "# Function to handle button click\n",
        "def on_button_clicked(b):\n",
        "    # Check the button description and print the appropriate message\n",
        "    if b.description == \"4. 이번 주까지 무엇을 하라고요?\":\n",
        "        print(\"Good job. Try another question.\")\n",
        "    else:\n",
        "        print(\"더 좋은 답을 다시 찾아볼래?\")\n",
        "\n",
        "# Create and display buttons with text options\n",
        "buttons = []\n",
        "for option in options:\n",
        "    button = widgets.Button(description=option)\n",
        "    button.on_click(on_button_clicked)\n",
        "    buttons.append(button)\n",
        "\n",
        "# Display all buttons\n",
        "for button in buttons:\n",
        "    display(button)"
      ],
      "metadata": {
        "id": "47e1s_FaJCfO"
      },
      "execution_count": null,
      "outputs": []
    },
    {
      "cell_type": "code",
      "source": [
        "!pip install gradio gtts"
      ],
      "metadata": {
        "id": "ZAAGT3_SK00z"
      },
      "execution_count": null,
      "outputs": []
    },
    {
      "cell_type": "code",
      "source": [
        "\n",
        "\n",
        "import gradio as gr\n",
        "from gtts import gTTS\n",
        "import os\n",
        "\n",
        "# Function to convert text to speech and handle the selection\n",
        "def handle_interaction(choice):\n",
        "    input_text = \"선생님: 학교에서 프로젝트를 시작하는데, 이번 주까지 준비해야해.\"\n",
        "    tts = gTTS(input_text, lang=\"ko\")\n",
        "    tts.save('speech.mp3')\n",
        "\n",
        "    if choice == \"4. 이번 주까지 무엇을 하라고요?\":\n",
        "        feedback = \"Good job. Try another question.\"\n",
        "    else:\n",
        "        feedback = \"더 좋은 답을 다시 찾아볼래?\"\n",
        "\n",
        "    return 'speech.mp3', feedback\n",
        "\n",
        "# Define your options\n",
        "options = [\"1. 뭐라고요?\", \"2. 네?\", \"3. 잘 모르겠어요.\", \"4. 이번 주까지 무엇을 하라고요?\"]\n",
        "\n",
        "# Create a Gradio interface\n",
        "iface = gr.Interface(\n",
        "    fn=handle_interaction,\n",
        "    inputs=gr.Radio(options, label=\"Choose an option\"),\n",
        "    outputs=[gr.Audio(label=\"Text-to-Speech Output\"), gr.Textbox(label=\"Feedback\")]\n",
        ")\n",
        "\n",
        "iface.launch()\n"
      ],
      "metadata": {
        "id": "LCtwXQYlJ0kH"
      },
      "execution_count": null,
      "outputs": []
    },
    {
      "cell_type": "code",
      "source": [
        "!pip install gradio gtts\n",
        "\n",
        "import gradio as gr\n",
        "from gtts import gTTS\n",
        "\n",
        "# Function to convert text to speech\n",
        "def text_to_speech():\n",
        "    input_text = \"학교에서 프로젝트를 시작하는데, 이번 주까지 준비해야해.\"\n",
        "    tts = gTTS(input_text, lang=\"ko\")\n",
        "    tts.save('speech.mp3')\n",
        "    return 'speech.mp3'\n",
        "\n",
        "# Function to handle the selection and provide feedback\n",
        "def provide_feedback(choice):\n",
        "    if choice == \"4. 이번 주까지 무엇을 하라고요?\":\n",
        "        return \"Good job. Try another question.\"\n",
        "    else:\n",
        "        return \"더 좋은 답을 다시 찾아볼래?\"\n",
        "\n",
        "# Define your options\n",
        "options = [\"1. 뭐라고요?\", \"2. 네?\", \"3. 잘 모르겠어요.\", \"4. 이번 주까지 무엇을 하라고요?\"]\n",
        "\n",
        "# Create a Gradio interface\n",
        "with gr.Blocks() as app:\n",
        "    gr.Markdown(\"### Text-to-Speech\")\n",
        "    gr.Audio(value=text_to_speech(), label=\"Speech Output\", interactive=False)\n",
        "    gr.Markdown(\"### Choose an Option\")\n",
        "    choice = gr.Radio(options, label=\"Options\")\n",
        "    feedback = gr.Textbox(label=\"Feedback\")\n",
        "    choice.change(fn=provide_feedback, inputs=choice, outputs=feedback)\n",
        "\n",
        "app.launch()\n"
      ],
      "metadata": {
        "id": "-oe1Dk-OLw-N"
      },
      "execution_count": null,
      "outputs": []
    },
    {
      "cell_type": "code",
      "source": [
        "!pip install gradio gtts\n",
        "\n",
        "import gradio as gr\n",
        "from gtts import gTTS\n",
        "\n",
        "# Function to convert text to speech\n",
        "def text_to_speech():\n",
        "    input_text = \"학교에서 프로젝트를 시작하는데, 이번 주까지 준비해야해.\"\n",
        "    tts = gTTS(input_text, lang=\"ko\")\n",
        "    tts.save('speech.mp3')\n",
        "    return 'speech.mp3', input_text\n",
        "\n",
        "# Function to handle the selection and provide feedback\n",
        "def provide_feedback(choice):\n",
        "    if choice == \"4. 이번 주까지 무엇을 하라고요?\":\n",
        "        return \"Good job. Try another question.\"\n",
        "    else:\n",
        "        return \"더 좋은 답을 다시 찾아볼래?\"\n",
        "\n",
        "# Define your options\n",
        "options = [\"1. 뭐라고요?\", \"2. 네?\", \"3. 잘 모르겠어요.\", \"4. 이번 주까지 무엇을 하라고요?\"]\n",
        "\n",
        "# Create a Gradio interface\n",
        "with gr.Blocks() as app:\n",
        "    gr.Markdown(\"### Text-to-Speech\")\n",
        "    audio, text_display = gr.Audio(interactive=False), gr.Markdown()\n",
        "    audio_out = gr.Audio(value=text_to_speech(), label=\"Speech Output\", outputs=[audio, text_display])\n",
        "    text_display.update(value=text_to_speech()[1])\n",
        "    gr.Markdown(\"### Choose an Option\")\n",
        "    choice = gr.Radio(options, label=\"Options\")\n",
        "    feedback = gr.Textbox(label=\"Feedback\")\n",
        "    choice.change(fn=provide_feedback, inputs=choice, outputs=feedback)\n",
        "\n",
        "app.launch()\n"
      ],
      "metadata": {
        "id": "jAqB6k9MSP7p"
      },
      "execution_count": null,
      "outputs": []
    },
    {
      "cell_type": "code",
      "source": [
        "!pip install gradio gtts\n",
        "\n",
        "import gradio as gr\n",
        "from gtts import gTTS\n",
        "\n",
        "# Function to convert text to speech and return the file path\n",
        "def text_to_speech():\n",
        "    input_text = \"학교에서 프로젝트를 시작하는데, 이번 주까지 준비해야해.\"\n",
        "    tts = gTTS(input_text, lang=\"ko\")\n",
        "    tts.save('speech.mp3')\n",
        "    return 'speech.mp3'\n",
        "\n",
        "# Function to return the input text for display\n",
        "def get_input_text():\n",
        "    return \"학교에서 프로젝트를 시작하는데, 이번 주까지 준비해야해.\"\n",
        "\n",
        "# Function to handle the selection and provide feedback\n",
        "def provide_feedback(choice):\n",
        "    if choice == \"4. 이번 주까지 무엇을 하라고요?\":\n",
        "        return \"Good job. Try another question.\"\n",
        "    else:\n",
        "        return \"더 좋은 답을 다시 찾아볼래?\"\n",
        "\n",
        "# Define your options\n",
        "options = [\"1. 뭐라고요?\", \"2. 네?\", \"3. 잘 모르겠어요.\", \"4. 이번 주까지 무엇을 하라고요?\"]\n",
        "\n",
        "# Create a Gradio interface\n",
        "with gr.Blocks() as app:\n",
        "    gr.Markdown(\"### Text-to-Speech\")\n",
        "    gr.Audio(value=text_to_speech(), label=\"Speech Output\", interactive=False)\n",
        "    gr.Markdown(get_input_text())\n",
        "    gr.Markdown(\"### Choose an Option\")\n",
        "    choice = gr.Radio(options, label=\"Options\")\n",
        "    feedback = gr.Textbox(label=\"Feedback\")\n",
        "    choice.change(fn=provide_feedback, inputs=choice, outputs=feedback)\n",
        "\n",
        "app.launch()\n"
      ],
      "metadata": {
        "id": "DCyXAJ3NS1W7"
      },
      "execution_count": null,
      "outputs": []
    },
    {
      "cell_type": "code",
      "source": [
        "!pip install qrcode[pil]"
      ],
      "metadata": {
        "id": "HY8rekLeMAUY"
      },
      "execution_count": null,
      "outputs": []
    },
    {
      "cell_type": "code",
      "source": [
        "import qrcode\n",
        "from PIL import Image\n",
        "import matplotlib.pyplot as plt\n",
        "\n",
        "# Your link\n",
        "url = input()\n",
        "\n",
        "# Generate QR code\n",
        "qr = qrcode.QRCode(\n",
        "    version=1,\n",
        "    error_correction=qrcode.constants.ERROR_CORRECT_L,\n",
        "    box_size=10,\n",
        "    border=4,\n",
        ")\n",
        "qr.add_data(url)\n",
        "qr.make(fit=True)\n",
        "\n",
        "img = qr.make_image(fill_color=\"black\", back_color=\"white\")\n",
        "\n",
        "# Display the QR code\n",
        "plt.imshow(img, interpolation='nearest')\n",
        "plt.axis('off')\n",
        "plt.show()\n",
        "\n",
        "# Optionally, save the QR code to a file\n",
        "img.save(\"my_qr_code.png\")\n"
      ],
      "metadata": {
        "id": "VgCcKRNMMNMe"
      },
      "execution_count": null,
      "outputs": []
    }
  ]
}